{
  "nbformat": 4,
  "nbformat_minor": 0,
  "metadata": {
    "colab": {
      "provenance": [],
      "include_colab_link": true
    },
    "kernelspec": {
      "name": "python3",
      "display_name": "Python 3"
    },
    "language_info": {
      "name": "python"
    }
  },
  "cells": [
    {
      "cell_type": "markdown",
      "metadata": {
        "id": "view-in-github",
        "colab_type": "text"
      },
      "source": [
        "<a href=\"https://colab.research.google.com/github/Riccardolotorto/graficiMatPlotLib/blob/main/dataframe_colonnine_MatPlotLib_Standard_Complesso_torta_con_aggiunte.ipynb\" target=\"_parent\"><img src=\"https://colab.research.google.com/assets/colab-badge.svg\" alt=\"Open In Colab\"/></a>"
      ]
    },
    {
      "cell_type": "markdown",
      "source": [
        "materiale: https://www.kaggle.com/\n"
      ],
      "metadata": {
        "id": "y07lasrJMg_x"
      }
    },
    {
      "cell_type": "code",
      "execution_count": null,
      "metadata": {
        "id": "wbx0ZF2vC51G"
      },
      "outputs": [],
      "source": [
        "import matplotlib.pyplot as plt\n",
        "import pandas"
      ]
    },
    {
      "cell_type": "code",
      "source": [
        "from google.colab import drive\n",
        "drive.mount('/content/drive')"
      ],
      "metadata": {
        "colab": {
          "base_uri": "https://localhost:8080/"
        },
        "id": "V-kksVKfwSj9",
        "outputId": "f8002418-f105-497e-927a-2d5be1a3be57"
      },
      "execution_count": null,
      "outputs": [
        {
          "output_type": "stream",
          "name": "stdout",
          "text": [
            "Mounted at /content/drive\n"
          ]
        }
      ]
    },
    {
      "cell_type": "code",
      "source": [
        "colonnine = pandas.read_csv('/content/drive/MyDrive/Colab Notebooks/ricarica_colonnine.csv', sep = ';')"
      ],
      "metadata": {
        "id": "-m6wE4oGDM-L"
      },
      "execution_count": 4,
      "outputs": []
    },
    {
      "cell_type": "code",
      "source": [
        "colxquart = colonnine.groupby(\"municipio\")[[\"numero_col\"]].sum().reset_index()\n",
        "colxquart"
      ],
      "metadata": {
        "id": "8QCTsAIyDs-n"
      },
      "execution_count": null,
      "outputs": []
    },
    {
      "cell_type": "code",
      "source": [
        "colonnineNoDuplicati = colonnine.drop_duplicates(subset = ['municipio', 'titolare'], keep = 'last')"
      ],
      "metadata": {
        "id": "QfJUPCLEIgjf"
      },
      "execution_count": 7,
      "outputs": []
    },
    {
      "cell_type": "code",
      "source": [
        "fornMunicpio = colonnineNoDuplicati.groupby('municipio')[['titolare']].count().reset_index()\n",
        "fornMunicpio"
      ],
      "metadata": {
        "id": "AmbnSSY6JSAX"
      },
      "execution_count": null,
      "outputs": []
    },
    {
      "cell_type": "code",
      "source": [
        "unito = colxquart.merge(fornMunicpio, on = 'municipio')\n",
        "unito"
      ],
      "metadata": {
        "id": "27SAi67BJm1C"
      },
      "execution_count": null,
      "outputs": []
    },
    {
      "cell_type": "code",
      "source": [
        "import numpy as np"
      ],
      "metadata": {
        "id": "YsR0BtnhLQ8Z"
      },
      "execution_count": 10,
      "outputs": []
    },
    {
      "cell_type": "markdown",
      "source": [
        "**barre verticali**"
      ],
      "metadata": {
        "id": "s2zUDyZWLyIx"
      }
    },
    {
      "cell_type": "code",
      "source": [
        "ascisse = colxquart['municipio'].map(str)\n",
        "ordinate = colxquart['numero_col']\n",
        "\n",
        "fig, ax = plt.subplots(figsize=(15,8))\n",
        "ax.bar(ascisse, ordinate, label='colonnine')\n",
        "\n",
        "ax.set_ylabel('numero')\n",
        "ax.set_xlabel('municipi')\n",
        "ax.set_title('totale colonnine in ogni municipio')\n",
        "ax.legend()"
      ],
      "metadata": {
        "id": "9wx3iG9kKDi2"
      },
      "execution_count": null,
      "outputs": []
    },
    {
      "cell_type": "markdown",
      "source": [
        "**barre verticali colorato**"
      ],
      "metadata": {
        "id": "5fh-YHB5L3LI"
      }
    },
    {
      "cell_type": "code",
      "source": [
        "ascisse = colxquart['municipio'].map(str)\n",
        "ordinate = colxquart['numero_col']\n",
        "\n",
        "fig, ax = plt.subplots(figsize=(15,8))\n",
        "ax.bar(ascisse, ordinate, label='colonnine', color = ['red', 'blue', 'green'])\n",
        "\n",
        "ax.set_ylabel('numero')\n",
        "ax.set_xlabel('municipi')\n",
        "ax.set_title('totale colonnine in ogni municipio')\n",
        "ax.legend()"
      ],
      "metadata": {
        "id": "hm0q7Nm1LxYn"
      },
      "execution_count": null,
      "outputs": []
    },
    {
      "cell_type": "markdown",
      "source": [
        "**barre orizzontali**"
      ],
      "metadata": {
        "id": "AQQyVnKiMBKg"
      }
    },
    {
      "cell_type": "code",
      "source": [
        "ascisse = colxquart['municipio'].map(str)\n",
        "ordinate = colxquart['numero_col']\n",
        "\n",
        "fig, ax = plt.subplots(figsize=(15,8))\n",
        "ax.barh(ascisse, ordinate, label='colonnine')\n",
        "\n",
        "ax.set_ylabel('municipi')\n",
        "ax.set_xlabel('numero')\n",
        "ax.set_title('totale colonnine in ogni municipio')\n",
        "ax.legend()"
      ],
      "metadata": {
        "id": "qhnWiRY3MFI2"
      },
      "execution_count": null,
      "outputs": []
    },
    {
      "cell_type": "markdown",
      "source": [
        "**treemap**"
      ],
      "metadata": {
        "id": "sB2hEslSRbW6"
      }
    },
    {
      "cell_type": "code",
      "source": [
        "!pip install squarify"
      ],
      "metadata": {
        "id": "oBCY6SfARe5U"
      },
      "execution_count": null,
      "outputs": []
    },
    {
      "cell_type": "code",
      "source": [
        "import squarify"
      ],
      "metadata": {
        "id": "NYCmBK0HRkee"
      },
      "execution_count": 15,
      "outputs": []
    },
    {
      "cell_type": "code",
      "source": [
        "nomi = colxquart['municipio']\n",
        "dati = colxquart['numero_col']\n",
        "\n",
        "squarify.plot(sizes=dati, label=nomi, alpha=.8)\n",
        "plt.axis('off')\n",
        "plt.show()"
      ],
      "metadata": {
        "id": "cZrANng2RpEv"
      },
      "execution_count": null,
      "outputs": []
    },
    {
      "cell_type": "markdown",
      "source": [
        "**grafico a torta**\n",
        "1. evidenziare un settore\n",
        "2. separarazione settori\n",
        "3. sostituzione percentuale con valore assoluto\n",
        "4. ruotare la torta in modo da avere un determinato valore all'inizio"
      ],
      "metadata": {
        "id": "5EkzHe7gM6Ep"
      }
    },
    {
      "cell_type": "code",
      "source": [
        "ascisse = colxquart['municipio']\n",
        "ordinate = colxquart['numero_col']\n",
        "\n",
        "plt.figure(figsize=(16, 8))\n",
        "plt.pie(ordinate, labels=ascisse, autopct='%1.1f%%')\n",
        "plt.show()"
      ],
      "metadata": {
        "id": "oobs42CGNP2m"
      },
      "execution_count": null,
      "outputs": []
    },
    {
      "cell_type": "markdown",
      "source": [
        "sito: https://matplotlib.org/stable/gallery/pie_and_polar_charts/pie_features.html"
      ],
      "metadata": {
        "id": "xIoa0u9xSbYk"
      }
    },
    {
      "cell_type": "code",
      "source": [
        "#evidenziare un settore\n",
        "explode = (0, 0.1, 0, 0, 0, 0, 0, 0, 0)  # only \"explode\" the 2nd slice (i.e. 'Hogs'). La lunghezza della tupla deve essere uguale al numero di spicchi presenti \n",
        "\n",
        "fig, ax = plt.subplots()\n",
        "ax.pie(ordinate, explode=explode, labels=ascisse, autopct='%1.1f%%', shadow=True)\n",
        "plt.show()"
      ],
      "metadata": {
        "id": "a8yjttqSSFnC"
      },
      "execution_count": null,
      "outputs": []
    },
    {
      "cell_type": "code",
      "source": [
        "#separazione di settore\n",
        "explode = (0.1, 0.1, 0.1, 0.1, 0.1, 0.1, 0.1, 0.1, 0.1) \n",
        "\n",
        "fig, ax = plt.subplots()\n",
        "ax.pie(ordinate, explode=explode, labels=ascisse, autopct='%1.1f%%', shadow=True)\n",
        "plt.show()"
      ],
      "metadata": {
        "id": "5OeJTeD4Tpws"
      },
      "execution_count": null,
      "outputs": []
    },
    {
      "cell_type": "code",
      "source": [
        "#sostituire percentuale con valore assoluto\n",
        "fig, ax = plt.subplots()\n",
        "ax.pie(ordinate, labels=ascisse, autopct= lambda p:  '{:.0f}'.format(p * (ordinate.sum()) / 100))  #ordinate.sum(): somma del numero di colonnine dal dato precedente\n",
        "plt.show()"
      ],
      "metadata": {
        "id": "c82d1U7lUtEy"
      },
      "execution_count": null,
      "outputs": []
    },
    {
      "cell_type": "code",
      "source": [
        "#ruotare la torta in modo da avere un determinato valore all'inizio\n",
        "fig, ax = plt.subplots()\n",
        "ax.pie(ordinate, labels=ascisse, autopct='%1.1f%%', startangle=240)   #startangle: ruota il grafico a torta. Va da 0 a 360\n",
        "plt.show()"
      ],
      "metadata": {
        "id": "f-iqbobOWmrI"
      },
      "execution_count": null,
      "outputs": []
    },
    {
      "cell_type": "markdown",
      "source": [
        "**grafico a barre verticali doppio**"
      ],
      "metadata": {
        "id": "gNTBKwtbNsWf"
      }
    },
    {
      "cell_type": "code",
      "source": [
        "unito"
      ],
      "metadata": {
        "id": "_bXvKtw8N2fK"
      },
      "execution_count": null,
      "outputs": []
    },
    {
      "cell_type": "code",
      "source": [
        "stringhe = unito['municipio']\n",
        "dati = {\n",
        "    \"colonne\": np.array(unito['numero_col']),\n",
        "    \"fornitore\": np.array(unito['titolare'])\n",
        "}\n",
        "\n",
        "x = np.arange(len(stringhe))  # the label locations\n",
        "width = 0.25  # the width of the bars\n",
        "multiplier = 0.5\n",
        "\n",
        "fig, ax = plt.subplots(layout='constrained', figsize = (12, 5))\n",
        "\n",
        "for nome, valore in dati.items():\n",
        "    offset = width * multiplier\n",
        "    rects = ax.bar(x + offset, valore, width, label=nome)\n",
        "    ax.bar_label(rects, padding=2)\n",
        "    multiplier += 1\n",
        "\n",
        "# Add some text for labels, title and custom x-axis tick labels, etc.\n",
        "ax.set_ylabel('numero')\n",
        "ax.set_title('numero di colonne e titolari in ogni municipio di milano')\n",
        "ax.set_xticks(x + width, stringhe)\n",
        "ax.legend(loc='upper right', ncols=2)\n",
        "\n",
        "plt.show()"
      ],
      "metadata": {
        "id": "C4LNGwVyNu96"
      },
      "execution_count": null,
      "outputs": []
    },
    {
      "cell_type": "markdown",
      "source": [
        "**grafico a barre orizzontali doppio**"
      ],
      "metadata": {
        "id": "d56QZTjSQ4pb"
      }
    },
    {
      "cell_type": "code",
      "source": [
        "stringhe = unito['municipio']\n",
        "dati = {\n",
        "    \"colonne\": np.array(unito['numero_col']),\n",
        "    \"fornitore\": np.array(unito['titolare'])\n",
        "}\n",
        "\n",
        "y = np.arange(len(stringhe))  # the label locations\n",
        "width = 0.25  # the width of the bars\n",
        "multiplier = 0.5\n",
        "\n",
        "fig, ax = plt.subplots(layout='constrained', figsize = (12, 5))\n",
        "\n",
        "for nome, valore in dati.items():\n",
        "    offset = width * multiplier\n",
        "    rects = ax.barh(y + offset, valore, width, label=nome)\n",
        "    ax.bar_label(rects, padding=2)\n",
        "    multiplier += 1\n",
        "\n",
        "# Add some text for labels, title and custom x-axis tick labels, etc.\n",
        "ax.set_ylabel('numero')\n",
        "ax.set_title('numero di colonne e titolari in ogni municipio di milano')\n",
        "ax.set_yticks(y + width, stringhe)\n",
        "ax.legend(loc='upper right', ncols=2)\n",
        "\n",
        "plt.show()"
      ],
      "metadata": {
        "id": "HmKMsd_LRFqw"
      },
      "execution_count": null,
      "outputs": []
    },
    {
      "cell_type": "markdown",
      "source": [
        "**grafico a blocchi verticale doppio**"
      ],
      "metadata": {
        "id": "-GK39PyyOTlv"
      }
    },
    {
      "cell_type": "code",
      "source": [
        "municipi = unito['municipio'].map(str)\n",
        "tipi = {\n",
        "    \"colonne\": np.array(unito['numero_col']),\n",
        "    \"fornitore\": np.array(unito['titolare'])\n",
        "}\n",
        "\n",
        "width = 0.5\n",
        "\n",
        "fig, ax = plt.subplots(figsize = (13, 5))\n",
        "bottom = np.zeros(len(municipi))  #il numero dentro la parentesi deve essere uguale alla lunghezza delle stringhe\n",
        "\n",
        "for mun, tip in tipi.items():\n",
        "    p = ax.bar(municipi, tip, width, label=mun, bottom=bottom)\n",
        "    bottom += tip  #aggiunge alla colonna un altro dato in base al valore (che determina l'altezza della colonna). Parte dal basso\n",
        "    ax.bar_label(p, label_type='center')  #metto i valori all'interno della colonna\n",
        "\n",
        "ax.set_title(\"numero di colonne e titolari in ogni municipio di milano\")\n",
        "ax.legend(loc=\"upper right\")\n",
        "\n",
        "plt.show()"
      ],
      "metadata": {
        "id": "qEvcxJPNOVqc"
      },
      "execution_count": null,
      "outputs": []
    },
    {
      "cell_type": "markdown",
      "source": [
        "**grafico a blocchi orizzontale doppio**"
      ],
      "metadata": {
        "id": "KHaVetPS1iI8"
      }
    },
    {
      "cell_type": "code",
      "source": [
        "municipi = unito['municipio'].map(str)\n",
        "tipi = {\n",
        "    \"colonne\": np.array(unito['numero_col']),\n",
        "    \"fornitore\": np.array(unito['titolare'])\n",
        "}\n",
        "\n",
        "width = 0.5\n",
        "\n",
        "fig, ax = plt.subplots(figsize = (13, 5))\n",
        "bottom = np.zeros(len(municipi))  #il numero dentro la parentesi deve essere uguale alla lunghezza delle stringhe\n",
        "\n",
        "for mun, tip in tipi.items():\n",
        "    p = ax.barh(municipi, tip, width, label=mun, left=bottom)\n",
        "    bottom += tip  #aggiunge alla colonna un altro dato in base al valore (che determina l'altezza della colonna). Parte dal basso\n",
        "    ax.bar_label(p, label_type='center')  #metto i valori all'interno della colonna\n",
        "\n",
        "ax.set_title(\"numero di colonne e titolari in ogni municipio di milano\")\n",
        "ax.legend(loc=\"upper right\")\n",
        "\n",
        "plt.show()"
      ],
      "metadata": {
        "id": "v9_bhFlD1oK6"
      },
      "execution_count": null,
      "outputs": []
    }
  ]
}