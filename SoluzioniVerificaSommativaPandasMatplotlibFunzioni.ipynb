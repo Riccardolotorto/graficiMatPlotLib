{
  "nbformat": 4,
  "nbformat_minor": 0,
  "metadata": {
    "colab": {
      "provenance": []
    },
    "kernelspec": {
      "name": "python3",
      "display_name": "Python 3"
    },
    "language_info": {
      "name": "python"
    }
  },
  "cells": [
    {
      "cell_type": "code",
      "execution_count": null,
      "metadata": {
        "id": "MKG7U2sT4Gv6"
      },
      "outputs": [],
      "source": [
        "import pandas as pd"
      ]
    },
    {
      "cell_type": "markdown",
      "source": [
        "1. caricare i file in un opportuno dataframe"
      ],
      "metadata": {
        "id": "mceBlUYo4-K_"
      }
    },
    {
      "cell_type": "code",
      "source": [
        "parcheggi = pd.read_csv(\"/content/drive/MyDrive/Colab Notebooks/sosta_turistici.csv\", sep = \";\")"
      ],
      "metadata": {
        "id": "yOGEOxyW4u8z"
      },
      "execution_count": null,
      "outputs": []
    },
    {
      "cell_type": "markdown",
      "source": [
        "2. visualizzare il numero di parcheggi di cui non sono note le regole"
      ],
      "metadata": {
        "id": "ITvqPSJp51vX"
      }
    },
    {
      "cell_type": "code",
      "source": [
        "len(parcheggi[parcheggi.regole.isnull()])"
      ],
      "metadata": {
        "id": "73gE9Kd9578g"
      },
      "execution_count": null,
      "outputs": []
    },
    {
      "cell_type": "markdown",
      "source": [
        "3. eliminare i parcheggi di cui non sono note le regole"
      ],
      "metadata": {
        "id": "UiO6H--L6IFL"
      }
    },
    {
      "cell_type": "code",
      "source": [
        "parcheggi = parcheggi.drop(parcheggi[parcheggi.regole.isnull()].index)"
      ],
      "metadata": {
        "id": "GDSmQUXA6Nzz"
      },
      "execution_count": null,
      "outputs": []
    },
    {
      "cell_type": "markdown",
      "source": [
        "4. fare in modo che il campo \"costo_ora\" contenga il prezzo sottoforma di valori interi (se presenti caratteri particolari, come ad esempio -, inserire il valore 0)"
      ],
      "metadata": {
        "id": "ql9s1Tyh6ZOT"
      }
    },
    {
      "cell_type": "code",
      "source": [
        "parcheggi['costo_ora'] = parcheggi['costo_ora'].str.replace('-', '0')\n",
        "parcheggi['costo_ora'] = parcheggi['costo_ora'].str.replace('€', '')\n",
        "parcheggi['costo_ora'] = parcheggi['costo_ora'].astype(int)"
      ],
      "metadata": {
        "id": "BfmFt0GE66s9"
      },
      "execution_count": null,
      "outputs": []
    },
    {
      "cell_type": "markdown",
      "source": [
        "5. aggiungere al dataframe due colonne chiamate 'oraInizio' e 'oraFine' che contengono l'ora di quando si può iniziare a parcheggiare e quella in cui si deve terminare il parcheggio. Prendere i dati dalla colonna regole."
      ],
      "metadata": {
        "id": "YJdNDk2s7qRM"
      }
    },
    {
      "cell_type": "code",
      "source": [
        "parcheggi['oraInizio'] = parcheggi['regole'].str[0]\n",
        "parcheggi['oraFine'] = parcheggi['regole'].str[2:4]"
      ],
      "metadata": {
        "id": "2cdkJjzq8InU"
      },
      "execution_count": null,
      "outputs": []
    },
    {
      "cell_type": "markdown",
      "source": [
        "6. calcolare quanto raccoglierebbe il comune di Milano se tutti i parcheggi a pagamento venissero occupati per tutto il tempo possibile e per tutti gli stalli disponibili"
      ],
      "metadata": {
        "id": "lypZRiP18uaK"
      }
    },
    {
      "cell_type": "code",
      "source": [
        "parcheggi['oraFine'] = parcheggi['oraFine'].astype(int)\n",
        "parcheggi['oraInizio'] = parcheggi['oraInizio'].astype(int)\n",
        "parcheggi[\"totale\"] = parcheggi['costo_ora'] * (parcheggi['oraFine'] - parcheggi['oraInizio'])\n",
        "prezzoTotale = parcheggi['totale'].sum()\n",
        "print(prezzoTotale)"
      ],
      "metadata": {
        "id": "jGL9XR7iQnhp"
      },
      "execution_count": null,
      "outputs": []
    },
    {
      "cell_type": "markdown",
      "source": [
        "7. trovare i parcheggi che sono vicini ad una metropolitana (hanno la sigla della metropolitana nel campo 'localizz')"
      ],
      "metadata": {
        "id": "PxMZ2V1h91To"
      }
    },
    {
      "cell_type": "code",
      "source": [
        "metropolitane = [\"M1\", \"M2\", \"M3\", \"M5\"]\n",
        "parcheggi[parcheggi['localizzaz'].str.contains('|'.join(metropolitane))]"
      ],
      "metadata": {
        "id": "7a0BG-eF-AHQ"
      },
      "execution_count": null,
      "outputs": []
    },
    {
      "cell_type": "markdown",
      "source": [
        "8. trovare i parcheggi su strada che permettono una sosta lunga e che hanno un numero di stalli compreso tra 7 e 10"
      ],
      "metadata": {
        "id": "UcnK0XFB_Bvf"
      }
    },
    {
      "cell_type": "code",
      "source": [
        "parcheggi[(parcheggi['tipologia'] == \"su strada\") & (parcheggi['tipo_sosta'] == \"LUNGA\") & (parcheggi['num_stalli'] >= 7) & (parcheggi['num_stalli'] <= 10)]"
      ],
      "metadata": {
        "id": "h61ulgme_U_q"
      },
      "execution_count": null,
      "outputs": []
    },
    {
      "cell_type": "markdown",
      "source": [
        "9. calcolare il numero di stalli per ogni tipologia"
      ],
      "metadata": {
        "id": "Y-lyweIpB7e7"
      }
    },
    {
      "cell_type": "code",
      "source": [
        "dfStalli = parcheggi.groupby('tipologia')[['num_stalli']].sum().reset_index()\n",
        "dfStalli"
      ],
      "metadata": {
        "id": "5XHh9QcPCDHP"
      },
      "execution_count": null,
      "outputs": []
    },
    {
      "cell_type": "markdown",
      "source": [
        "10. trovare la tipologia che ha più stalli"
      ],
      "metadata": {
        "id": "piqzRd3lCbFk"
      }
    },
    {
      "cell_type": "code",
      "source": [
        "dfStalli[dfStalli['num_stalli'] == dfStalli['num_stalli'].max()][['tipologia']]"
      ],
      "metadata": {
        "id": "NQxvVIfvCad9"
      },
      "execution_count": null,
      "outputs": []
    },
    {
      "cell_type": "markdown",
      "source": [
        "11. calcolare il numero di stalli per ogni tipologia e per ogni provenienze. Chiamare il risultato dfTotale"
      ],
      "metadata": {
        "id": "oe3bbOSgCrPN"
      }
    },
    {
      "cell_type": "code",
      "source": [
        "dfTotale = parcheggi.groupby(['tipologia', 'provenienza'])[['num_stalli']].sum().reset_index()\n",
        "dfTotale"
      ],
      "metadata": {
        "id": "TvfcFjupC3cr"
      },
      "execution_count": null,
      "outputs": []
    },
    {
      "cell_type": "markdown",
      "source": [
        "12. visualizzare le tipologie che non hanno le due provenienze (ad esempio 'area_chiusa' ha solo la provenienza fuori)"
      ],
      "metadata": {
        "id": "x4zGqpAGDRQS"
      }
    },
    {
      "cell_type": "code",
      "source": [],
      "metadata": {
        "id": "RIpez6bUJsTh"
      },
      "execution_count": null,
      "outputs": []
    },
    {
      "cell_type": "markdown",
      "source": [
        "13. aggiungere a dfTotale due righe, una per tipologia area chiusa e provenienza dentro con valori uguali a 0 e l'altra con tipologia area parcheggio e provenienza dentro con valori uguali a 0"
      ],
      "metadata": {
        "id": "xIl62Xh6Kn7M"
      }
    },
    {
      "cell_type": "code",
      "source": [
        "dfTotale.loc[4] = ['area chiusa', 'dentro', 0]\n",
        "dfTotale.loc[5] = ['area parcheggio', 'dentro', 0]"
      ],
      "metadata": {
        "id": "1wKQazLbKo5p"
      },
      "execution_count": null,
      "outputs": []
    },
    {
      "cell_type": "markdown",
      "source": [
        "14. usare i dati dell'esercizio precedente per creare un grafico a barre verticali con sulle ascisse le tipologie e sulle ordinate i valori della provenienza, una barra per il valore dentro e una per il valore fuori"
      ],
      "metadata": {
        "id": "eS9ALgOWMC78"
      }
    },
    {
      "cell_type": "code",
      "source": [
        "import matplotlib.pyplot as plt\n",
        "import numpy as np"
      ],
      "metadata": {
        "id": "DkHncaWcKqv2"
      },
      "execution_count": null,
      "outputs": []
    },
    {
      "cell_type": "code",
      "source": [
        "labels = list(dfTotale['tipologia'].unique())  #unique: rimuove i duplicati\n",
        "fuori = dfTotale[dfTotale['provenienza'] == \"fuori\"]\n",
        "dentro = dfTotale[dfTotale['provenienza'] == \"dentro\"]\n",
        "\n",
        "finale = fuori.merge(dentro, on = \"tipologia\")\n",
        "\n",
        "x = np.arange(len(labels))\n",
        "width = 0.35\n",
        "\n",
        "fig, ax1 = plt.subplots(figsize=(15,8))\n",
        "ax1.bar(x - width/2, finale[\"num_stalli_x\"], width, label='fuori')\n",
        "ax1.bar(x + width/2, finale[\"num_stalli_y\"], width, label='dentro')\n",
        "\n",
        "\n",
        "ax1.set_ylabel('num_stalli')\n",
        "ax1.set_xlabel('tipologia')\n",
        "ax1.set_title('numero di stalli per ogni tipologia e provenienza')\n",
        "default_x_ticks = range(len(labels))\n",
        "plt.xticks(default_x_ticks, labels)\n",
        "ax1.legend()\n",
        "\n",
        "fig.tight_layout()\n",
        "plt.show()"
      ],
      "metadata": {
        "id": "ntv-PlvHMkpw"
      },
      "execution_count": null,
      "outputs": []
    },
    {
      "cell_type": "markdown",
      "source": [
        "15. fare un grafico analogo a quello sopra, mettendo non due colonne distinte, ma un dato sopra l'altro in modo da formare dei 'blocchi'"
      ],
      "metadata": {
        "id": "sGL7pPHTKrhV"
      }
    },
    {
      "cell_type": "code",
      "source": [
        "labels = list(dfTotale['tipologia'].unique())\n",
        "fuori = dfTotale[dfTotale['provenienza'] == \"fuori\"]\n",
        "dentro = dfTotale[dfTotale['provenienza'] == \"dentro\"]\n",
        "\n",
        "finale = fuori.merge(dentro, on = \"tipologia\")\n",
        "\n",
        "x = np.arange(len(labels))\n",
        "width = 0.35\n",
        "\n",
        "\n",
        "fig, ax2 = plt.subplots(figsize=(15,8))\n",
        "ax2.bar(x, finale[\"num_stalli_x\"]  + finale[\"num_stalli_y\"] , width, label='fuori')\n",
        "ax2.bar(x, finale[\"num_stalli_y\"], width, label='dentro')\n",
        "\n",
        "\n",
        "ax2.set_ylabel('num_stalli')\n",
        "ax2.set_xlabel('tipologia')\n",
        "ax2.set_title('numero di stalli per ogni tipologia e provenienza')\n",
        "default_x_ticks = range(len(labels))\n",
        "plt.xticks(default_x_ticks, labels)\n",
        "ax2.legend()\n",
        "\n",
        "fig.tight_layout()\n",
        "plt.show()"
      ],
      "metadata": {
        "id": "3VgyfEeopwhT"
      },
      "execution_count": null,
      "outputs": []
    },
    {
      "cell_type": "markdown",
      "source": [
        "16. rappresentare i due grafici in un unico grafico e salvarli su un file pdf"
      ],
      "metadata": {
        "id": "4hTv5AIiKt4p"
      }
    },
    {
      "cell_type": "code",
      "source": [
        "fig, (ax1, ax2) = plt.subplots(2, 1, figsize=(8, 10))\n",
        "\n",
        "ax1.bar(x - width/2, finale[\"num_stalli_x\"], width, label='fuori')\n",
        "ax1.bar(x + width/2, finale[\"num_stalli_y\"], width, label='dentro')\n",
        "\n",
        "\n",
        "ax1.set_ylabel('num_stalli')\n",
        "ax1.set_xlabel('tipologia')\n",
        "ax1.set_title('numero di stalli per ogni tipologia e provenienza')\n",
        "default_x_ticks = range(len(labels))\n",
        "plt.xticks(default_x_ticks, labels)\n",
        "ax1.legend()\n",
        "\n",
        "\n",
        "\n",
        "ax2.bar(x, finale[\"num_stalli_x\"]  + finale[\"num_stalli_y\"] , width, label='fuori')\n",
        "ax2.bar(x, finale[\"num_stalli_y\"], width, label='dentro')\n",
        "\n",
        "\n",
        "ax2.set_ylabel('num_stalli')\n",
        "ax2.set_xlabel('tipologia')\n",
        "ax2.set_title('numero di stalli per ogni tipologia e provenienza')\n",
        "default_x_ticks = range(len(labels))\n",
        "plt.xticks(default_x_ticks, labels)\n",
        "ax2.legend()\n",
        "\n",
        "plt.tight_layout()\n",
        "plt.savefig(\"grafici.pdf\", format=\"pdf\", bbox_inches=\"tight\")   #salvare il grafico in un file pdf\n",
        "plt.show"
      ],
      "metadata": {
        "id": "GWTvZmWyEkXD"
      },
      "execution_count": null,
      "outputs": []
    },
    {
      "cell_type": "markdown",
      "source": [
        "17. creare una funzione percentuale(parte, totale) che restituisca la percentuale del parametro parte rispetto al totale"
      ],
      "metadata": {
        "id": "839CGesOKAZI"
      }
    },
    {
      "cell_type": "code",
      "source": [
        "def percentuale(parte, totale):\n",
        "  return (parte / totale) * 100 \n",
        "\n",
        "print(percentuale(2, 8))"
      ],
      "metadata": {
        "id": "GKKEJIzGKShP"
      },
      "execution_count": null,
      "outputs": []
    },
    {
      "cell_type": "markdown",
      "source": [
        "18. utilizzare questa funzione per aggiungere al dataset dfTotale una colonna percentuale contenente la percentuale del numero di stalli rispetto al totale degli stalli\n",
        "\n"
      ],
      "metadata": {
        "id": "FLrcm0CEKmii"
      }
    },
    {
      "cell_type": "code",
      "source": [
        "dfTotale['percentuale'] = percentuale(dfTotale['num_stalli'], parcheggi['num_stalli'].sum())"
      ],
      "metadata": {
        "id": "os-EX9UOPJZL"
      },
      "execution_count": null,
      "outputs": []
    }
  ]
}