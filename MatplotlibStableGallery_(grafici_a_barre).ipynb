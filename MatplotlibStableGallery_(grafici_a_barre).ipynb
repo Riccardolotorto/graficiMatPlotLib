{
  "nbformat": 4,
  "nbformat_minor": 0,
  "metadata": {
    "colab": {
      "provenance": [],
      "collapsed_sections": [
        "Ke7HgLwsJoat",
        "uBkA28aGDoDU",
        "Wj-PLfJIws5r"
      ],
      "mount_file_id": "1GM46unDofyFSvLgnZBQ7h_Da9GG_DWS7",
      "authorship_tag": "ABX9TyNQzsXIsplixYF3AcprFdTN",
      "include_colab_link": true
    },
    "kernelspec": {
      "name": "python3",
      "display_name": "Python 3"
    },
    "language_info": {
      "name": "python"
    }
  },
  "cells": [
    {
      "cell_type": "markdown",
      "metadata": {
        "id": "view-in-github",
        "colab_type": "text"
      },
      "source": [
        "<a href=\"https://colab.research.google.com/github/Riccardolotorto/graficiMatPlotLib/blob/main/MatplotlibStableGallery_(grafici_a_barre).ipynb\" target=\"_parent\"><img src=\"https://colab.research.google.com/assets/colab-badge.svg\" alt=\"Open In Colab\"/></a>"
      ]
    },
    {
      "cell_type": "markdown",
      "source": [
        "**materiale**:\n",
        "https://matplotlib.org/stable/gallery/index.html"
      ],
      "metadata": {
        "id": "x0isjvGD4WVA"
      }
    },
    {
      "cell_type": "code",
      "source": [
        "import pandas as pd\n",
        "import numpy as np\n",
        "import matplotlib.pyplot as plt"
      ],
      "metadata": {
        "id": "vCQKBsue4gre"
      },
      "execution_count": 3,
      "outputs": []
    },
    {
      "cell_type": "markdown",
      "source": [
        "#grafici"
      ],
      "metadata": {
        "id": "GYG45xox4duR"
      }
    },
    {
      "cell_type": "code",
      "source": [
        "#grafico barre a blocchi\n",
        "\n",
        "species = (\n",
        "    \"Adelie\\n $\\\\mu=$3700.66g\",\n",
        "    \"Chinstrap\\n $\\\\mu=$3733.09g\",\n",
        "    \"Gentoo\\n $\\\\mu=5076.02g$\",\n",
        ")\n",
        "weight_counts = {\n",
        "    \"Below\": np.array([70, 31, 58]),\n",
        "    \"Above\": np.array([82, 37, 66]),\n",
        "}\n",
        "width = 0.5\n",
        "\n",
        "fig, ax = plt.subplots()\n",
        "bottom = np.zeros(3)\n",
        "\n",
        "for boolean, weight_count in weight_counts.items():\n",
        "    p = ax.bar(species, weight_count, width, label=boolean, bottom=bottom)\n",
        "    bottom += weight_count\n",
        "\n",
        "ax.set_title(\"Number of penguins with above average body mass\")\n",
        "ax.legend(loc=\"upper right\")\n",
        "\n",
        "plt.show()"
      ],
      "metadata": {
        "id": "-6ntO_Ke4Y4D"
      },
      "execution_count": null,
      "outputs": []
    },
    {
      "cell_type": "code",
      "source": [
        "#grafico barre triple\n",
        "\n",
        "species = (\"Adelie\", \"Chinstrap\", \"Gentoo\")\n",
        "penguin_means = {\n",
        "    'Bill Depth': (18.35, 18.43, 14.98),\n",
        "    'Bill Length': (38.79, 48.83, 47.50),\n",
        "    'Flipper Length': (189.95, 195.82, 217.19),\n",
        "}\n",
        "\n",
        "x = np.arange(len(species))  # the label locations\n",
        "width = 0.25  # the width of the bars\n",
        "multiplier = 0\n",
        "\n",
        "fig, ax = plt.subplots(layout='constrained')\n",
        "\n",
        "for attribute, measurement in penguin_means.items():\n",
        "    offset = width * multiplier\n",
        "    rects = ax.bar(x + offset, measurement, width, label=attribute)\n",
        "    ax.bar_label(rects, padding=3)\n",
        "    multiplier += 1\n",
        "\n",
        "# Add some text for labels, title and custom x-axis tick labels, etc.\n",
        "ax.set_ylabel('Length (mm)')\n",
        "ax.set_title('Penguin attributes by species')\n",
        "ax.set_xticks(x + width, species)\n",
        "ax.legend(loc='upper left', ncols=3)\n",
        "ax.set_ylim(0, 250)\n",
        "\n",
        "plt.show()"
      ],
      "metadata": {
        "id": "LQweGYZi6q6l"
      },
      "execution_count": null,
      "outputs": []
    },
    {
      "cell_type": "code",
      "source": [
        "#grafico barre orizzontali\n",
        "\n",
        "np.random.seed(19680801)\n",
        "plt.rcdefaults()\n",
        "\n",
        "fig, ax = plt.subplots()\n",
        "people = ('Tom', 'Dick', 'Harry', 'Slim', 'Jim')\n",
        "y_pos = np.arange(len(people))\n",
        "performance = 3 + 10 * np.random.rand(len(people))\n",
        "error = np.random.rand(len(people))\n",
        "\n",
        "ax.barh(y_pos, performance, xerr=error, align='center')\n",
        "ax.set_yticks(y_pos, labels=people)\n",
        "ax.invert_yaxis()  # labels read top-to-bottom\n",
        "ax.set_xlabel('Performance')\n",
        "ax.set_title('How fast do you want to go today?')\n",
        "\n",
        "plt.show()"
      ],
      "metadata": {
        "id": "pY8sYlAu62P9"
      },
      "execution_count": null,
      "outputs": []
    },
    {
      "cell_type": "code",
      "source": [
        "#grafico a barre verticali con gradazioni di colore\n",
        "\n",
        "np.random.seed(19680801)\n",
        "def gradient_image(ax, direction=0.3, cmap_range=(0, 1), **kwargs):\n",
        "    \"\"\"\n",
        "    Draw a gradient image based on a colormap.\n",
        "\n",
        "    Parameters\n",
        "    ----------\n",
        "    ax : Axes\n",
        "        The axes to draw on.\n",
        "    direction : float\n",
        "        The direction of the gradient. This is a number in\n",
        "        range 0 (=vertical) to 1 (=horizontal).\n",
        "    cmap_range : float, float\n",
        "        The fraction (cmin, cmax) of the colormap that should be\n",
        "        used for the gradient, where the complete colormap is (0, 1).\n",
        "    **kwargs\n",
        "        Other parameters are passed on to `.Axes.imshow()`.\n",
        "        In particular, *cmap*, *extent*, and *transform* may be useful.\n",
        "    \"\"\"\n",
        "    phi = direction * np.pi / 2\n",
        "    v = np.array([np.cos(phi), np.sin(phi)])\n",
        "    X = np.array([[v @ [1, 0], v @ [1, 1]],\n",
        "                  [v @ [0, 0], v @ [0, 1]]])\n",
        "    a, b = cmap_range\n",
        "    X = a + (b - a) / X.max() * X\n",
        "    im = ax.imshow(X, interpolation='bicubic', clim=(0, 1),\n",
        "                   aspect='auto', **kwargs)\n",
        "    return im\n",
        "\n",
        "\n",
        "def gradient_bar(ax, x, y, width=0.5, bottom=0):\n",
        "    for left, top in zip(x, y):\n",
        "        right = left + width\n",
        "        gradient_image(ax, extent=(left, right, bottom, top),\n",
        "                       cmap=plt.cm.Blues_r, cmap_range=(0, 0.8))\n",
        "\n",
        "\n",
        "fig, ax = plt.subplots()\n",
        "ax.set(xlim=(0, 10), ylim=(0, 1))\n",
        "\n",
        "# background image\n",
        "gradient_image(ax, direction=1, extent=(0, 1, 0, 1), transform=ax.transAxes,\n",
        "               cmap=plt.cm.RdYlGn, cmap_range=(0.2, 0.8), alpha=0.5)\n",
        "\n",
        "N = 10\n",
        "x = np.arange(N) + 0.15\n",
        "y = np.random.rand(N)\n",
        "gradient_bar(ax, x, y, width=0.7)\n",
        "plt.show()"
      ],
      "metadata": {
        "id": "GcvaggVL8joK"
      },
      "execution_count": null,
      "outputs": []
    },
    {
      "cell_type": "code",
      "source": [
        "#grafico a barre orizzontali speciale\n",
        "\n",
        "\n",
        "category_names = ['Strongly disagree', 'Disagree',\n",
        "                  'Neither agree nor disagree', 'Agree', 'Strongly agree']\n",
        "results = {\n",
        "    'Question 1': [10, 15, 17, 32, 26],\n",
        "    'Question 2': [26, 22, 29, 10, 13],\n",
        "    'Question 3': [35, 37, 7, 2, 19],\n",
        "    'Question 4': [32, 11, 9, 15, 33],\n",
        "    'Question 5': [21, 29, 5, 5, 40],\n",
        "    'Question 6': [8, 19, 5, 30, 38]\n",
        "}\n",
        "\n",
        "\n",
        "def survey(results, category_names):\n",
        "    \"\"\"\n",
        "    Parameters\n",
        "    ----------\n",
        "    results : dict\n",
        "        A mapping from question labels to a list of answers per category.\n",
        "        It is assumed all lists contain the same number of entries and that\n",
        "        it matches the length of *category_names*.\n",
        "    category_names : list of str\n",
        "        The category labels.\n",
        "    \"\"\"\n",
        "    labels = list(results.keys())\n",
        "    data = np.array(list(results.values()))\n",
        "    data_cum = data.cumsum(axis=1)\n",
        "    category_colors = plt.colormaps['RdYlGn'](\n",
        "        np.linspace(0.15, 0.85, data.shape[1]))\n",
        "\n",
        "    fig, ax = plt.subplots(figsize=(9.2, 5))\n",
        "    ax.invert_yaxis()\n",
        "    ax.xaxis.set_visible(False)\n",
        "    ax.set_xlim(0, np.sum(data, axis=1).max())\n",
        "\n",
        "    for i, (colname, color) in enumerate(zip(category_names, category_colors)):\n",
        "        widths = data[:, i]\n",
        "        starts = data_cum[:, i] - widths\n",
        "        rects = ax.barh(labels, widths, left=starts, height=0.5,\n",
        "                        label=colname, color=color)\n",
        "\n",
        "        r, g, b, _ = color\n",
        "        text_color = 'white' if r * g * b < 0.5 else 'darkgrey'\n",
        "        ax.bar_label(rects, label_type='center', color=text_color)\n",
        "    ax.legend(ncols=len(category_names), bbox_to_anchor=(0, 1),\n",
        "              loc='lower left', fontsize='small')\n",
        "\n",
        "    return fig, ax\n",
        "\n",
        "\n",
        "survey(results, category_names)\n",
        "plt.show()"
      ],
      "metadata": {
        "id": "0-PPUCjfWDXw"
      },
      "execution_count": null,
      "outputs": []
    },
    {
      "cell_type": "code",
      "source": [
        "np.random.seed(19680801)\n",
        "\n",
        "plt.rcdefaults()\n",
        "fig, ax = plt.subplots()\n",
        "\n",
        "# Example data\n",
        "people = ('Tom', 'Dick', 'Harry', 'Slim', 'Jim')\n",
        "y_pos = np.arange(len(people))   #setto le posizioni sull'asse Y\n",
        "performance = 3 + 10 * np.random.rand(len(people))   #genero dei valori casuali per creare i dati dell'asse X\n",
        "error = np.random.rand(len(people))  #creo l'errore (linea nera nel grafico)\n",
        "\n",
        "ax.barh(y_pos, performance, xerr=error, align='center')\n",
        "ax.set_yticks(y_pos, labels=people)\n",
        "ax.invert_yaxis()  # labels read top-to-bottom\n",
        "ax.set_xlabel('Performance')\n",
        "ax.set_title('How fast do you want to go today?')\n",
        "\n",
        "plt.show()"
      ],
      "metadata": {
        "id": "Mwu0RIFX8NNQ"
      },
      "execution_count": null,
      "outputs": []
    },
    {
      "cell_type": "markdown",
      "source": [
        "#esercizi con i grafici file 1"
      ],
      "metadata": {
        "id": "Ke7HgLwsJoat"
      }
    },
    {
      "cell_type": "code",
      "source": [
        "df = pd.read_csv('/content/drive/MyDrive/Colab Notebooks/df_3.csv')"
      ],
      "metadata": {
        "id": "MIlH5yAEJqsr"
      },
      "execution_count": null,
      "outputs": []
    },
    {
      "cell_type": "code",
      "source": [
        "df2 = pd.read_csv('/content/drive/MyDrive/Colab Notebooks/sosta_turistici.csv', sep = ';')"
      ],
      "metadata": {
        "id": "Fu_al6lhMxn_"
      },
      "execution_count": 4,
      "outputs": []
    },
    {
      "cell_type": "code",
      "source": [
        "df2 = df2.drop(['LONG_X_4326', 'LAT_Y_4326', 'Location'], axis = 1)"
      ],
      "metadata": {
        "id": "_iQqeG2SNAfP"
      },
      "execution_count": 5,
      "outputs": []
    },
    {
      "cell_type": "code",
      "source": [
        "dfTotale = df2.groupby(['tipologia', 'provenienza'])[['num_stalli']].sum().reset_index()\n",
        "dfTotale.loc[4] = ['area chiusa', 'dentro', 0]\n",
        "dfTotale.loc[5] = ['area parcheggio', 'dentro', 0]"
      ],
      "metadata": {
        "id": "7FLmQ7-uNR5L"
      },
      "execution_count": 6,
      "outputs": []
    },
    {
      "cell_type": "code",
      "source": [
        "dfTotale = dfTotale.sort_values(by='tipologia')"
      ],
      "metadata": {
        "id": "byLymTE3ODFt"
      },
      "execution_count": 7,
      "outputs": []
    },
    {
      "cell_type": "code",
      "source": [
        "tipologie = (\n",
        "    \"area chiusa\",\n",
        "    \"area parcheggio\",\n",
        "    \"su strada\",\n",
        ")\n",
        "provenienze = {\n",
        "    \"fuori\": np.array(dfTotale[dfTotale['provenienza'] == 'fuori']['num_stalli']),\n",
        "    \"dentro\": np.array(dfTotale[dfTotale['provenienza'] == 'dentro']['num_stalli'])\n",
        "}\n",
        "width = 0.5\n",
        "\n",
        "fig, ax = plt.subplots(figsize = (13, 5))\n",
        "bottom = np.zeros(3)\n",
        "\n",
        "for tip, prov in provenienze.items():\n",
        "    p = ax.bar(tipologie, prov, width, label=tip, bottom=bottom)\n",
        "    bottom += prov\n",
        "\n",
        "ax.set_title(\"numero di stalli per tipologia e provenienza\")\n",
        "ax.legend(loc=\"upper left\")\n",
        "\n",
        "plt.show()"
      ],
      "metadata": {
        "id": "1Qn0OqXZOUnq"
      },
      "execution_count": null,
      "outputs": []
    },
    {
      "cell_type": "code",
      "source": [
        "stringhe = (\"area chiusa\", \"area parcheggio\", \"su strada\")\n",
        "dati = {\n",
        "    'fuori': np.array(dfTotale[dfTotale['provenienza'] == 'fuori']['num_stalli']),\n",
        "    'dentro': np.array(dfTotale[dfTotale['provenienza'] == 'dentro']['num_stalli']),\n",
        "}\n",
        "\n",
        "x = np.arange(len(stringhe))  # the label locations\n",
        "width = 0.25  # the width of the bars\n",
        "multiplier = 0.5\n",
        "\n",
        "fig, ax = plt.subplots(layout='constrained')\n",
        "\n",
        "for nome, valore in dati.items():\n",
        "    offset = width * multiplier\n",
        "    rects = ax.bar(x + offset, valore, width, label=nome)\n",
        "    ax.bar_label(rects, padding=2)\n",
        "    multiplier += 1\n",
        "\n",
        "# Add some text for labels, title and custom x-axis tick labels, etc.\n",
        "ax.set_ylabel('numero')\n",
        "ax.set_title('numero stalli per tipologia e provenienza')\n",
        "ax.set_xticks(x + width, stringhe)\n",
        "ax.legend(loc='upper left', ncols=2)\n",
        "\n",
        "plt.show()"
      ],
      "metadata": {
        "id": "rJJWHtJvQung"
      },
      "execution_count": null,
      "outputs": []
    },
    {
      "cell_type": "code",
      "source": [
        "np.random.seed(19680801)\n",
        "def gradient_image(ax, direction=0.3, cmap_range=(0, 1), **kwargs):\n",
        "    \"\"\"\n",
        "    Draw a gradient image based on a colormap.\n",
        "\n",
        "    Parameters\n",
        "    ----------\n",
        "    ax : Axes\n",
        "        The axes to draw on.\n",
        "    direction : float\n",
        "        The direction of the gradient. This is a number in\n",
        "        range 0 (=vertical) to 1 (=horizontal).\n",
        "    cmap_range : float, float\n",
        "        The fraction (cmin, cmax) of the colormap that should be\n",
        "        used for the gradient, where the complete colormap is (0, 1).\n",
        "    **kwargs\n",
        "        Other parameters are passed on to `.Axes.imshow()`.\n",
        "        In particular, *cmap*, *extent*, and *transform* may be useful.\n",
        "    \"\"\"\n",
        "    phi = direction * np.pi / 2\n",
        "    v = np.array([np.cos(phi), np.sin(phi)])\n",
        "    X = np.array([[v @ [1, 0], v @ [1, 1]],\n",
        "                  [v @ [0, 0], v @ [0, 1]]])\n",
        "    a, b = cmap_range\n",
        "    X = a + (b - a) / X.max() * X\n",
        "    im = ax.imshow(X, interpolation='bicubic', clim=(0, 1),\n",
        "                   aspect='auto', **kwargs)\n",
        "    return im\n",
        "\n",
        "\n",
        "def gradient_bar(ax, x, y, width=0.5, bottom=0):\n",
        "    for left, top in zip(x, y):\n",
        "        right = left + width\n",
        "        gradient_image(ax, extent=(left, right, bottom, top),\n",
        "                       cmap=plt.cm.Blues_r, cmap_range=(0, 0.8))\n",
        "\n",
        "\n",
        "fig, ax = plt.subplots()\n",
        "ax.set(xlim=(0, 10), ylim=(0, 1))\n",
        "\n",
        "# background image\n",
        "gradient_image(ax, direction=1, extent=(0, 1, 0, 1), transform=ax.transAxes,\n",
        "               cmap=plt.cm.RdYlGn, cmap_range=(0.2, 0.8), alpha=0.5)\n",
        "\n",
        "tipologie = ('area chiusa', 'area parcheggio', 'su strada')\n",
        "x = np.arange(len(tipologie)) + 0.20\n",
        "y = np.random.rand(len(tipologie))\n",
        "gradient_bar(ax, x, y, width=0.7)\n",
        "plt.show()"
      ],
      "metadata": {
        "id": "4vsAGYCFTQW1"
      },
      "execution_count": null,
      "outputs": []
    },
    {
      "cell_type": "code",
      "source": [
        "category_names = ['fuori', 'dentro']\n",
        "results = {\n",
        "    'area chiusa': np.array(dfTotale[dfTotale['tipologia'] == 'area chiusa']['num_stalli']),  \n",
        "    'area parcheggio': np.array(dfTotale[dfTotale['tipologia'] == 'area parcheggio']['num_stalli']),\n",
        "    'su strada': np.array(dfTotale[dfTotale['tipologia'] == 'su strada']['num_stalli'])\n",
        "}\n",
        "\n",
        "\n",
        "def survey(results, category_names):\n",
        "    \"\"\"\n",
        "    Parameters\n",
        "    ----------\n",
        "    results : dict\n",
        "        A mapping from question labels to a list of answers per category.\n",
        "        It is assumed all lists contain the same number of entries and that\n",
        "        it matches the length of *category_names*.\n",
        "    category_names : list of str\n",
        "        The category labels.\n",
        "    \"\"\"\n",
        "    labels = list(results.keys())\n",
        "    data = np.array(list(results.values()))\n",
        "    data_cum = data.cumsum(axis=1)\n",
        "    category_colors = plt.colormaps['RdYlGn'](\n",
        "        np.linspace(0.15, 0.85, data.shape[1]))\n",
        "\n",
        "    fig, ax = plt.subplots(figsize=(9.2, 5))\n",
        "    ax.invert_yaxis()\n",
        "    ax.xaxis.set_visible(False)\n",
        "    ax.set_xlim(0, np.sum(data, axis=1).max())\n",
        "\n",
        "    for i, (colname, color) in enumerate(zip(category_names, category_colors)):\n",
        "        widths = data[:, i]\n",
        "        starts = data_cum[:, i] - widths\n",
        "        rects = ax.barh(labels, widths, left=starts, height=0.5,\n",
        "                        label=colname, color=color)\n",
        "\n",
        "        r, g, b, _ = color\n",
        "        text_color = 'white' if r * g * b < 0.5 else 'darkgrey'\n",
        "        ax.bar_label(rects, label_type='center', color=text_color)\n",
        "    ax.legend(ncols=len(category_names), bbox_to_anchor=(0, 1),\n",
        "              loc='lower left', fontsize='small')\n",
        "\n",
        "    return fig, ax\n",
        "\n",
        "\n",
        "survey(results, category_names)\n",
        "plt.show()"
      ],
      "metadata": {
        "id": "JSpzocLzW63q"
      },
      "execution_count": null,
      "outputs": []
    },
    {
      "cell_type": "markdown",
      "source": [
        "#esercizi con grafici file 2"
      ],
      "metadata": {
        "id": "uBkA28aGDoDU"
      }
    },
    {
      "cell_type": "code",
      "source": [
        "!pip install geopandas"
      ],
      "metadata": {
        "id": "XMLj3HTjDnUG"
      },
      "execution_count": null,
      "outputs": []
    },
    {
      "cell_type": "code",
      "source": [
        "import geopandas as gpd"
      ],
      "metadata": {
        "id": "xuHXqxJ4EK7S"
      },
      "execution_count": null,
      "outputs": []
    },
    {
      "cell_type": "code",
      "source": [
        "quartieri = gpd.read_file('/content/drive/MyDrive/Colab Notebooks/ds964_nil_wm.zip')"
      ],
      "metadata": {
        "id": "3-tG66HzEaCB"
      },
      "execution_count": null,
      "outputs": []
    },
    {
      "cell_type": "code",
      "source": [
        "fontanelle = gpd.read_file('/content/drive/MyDrive/Colab Notebooks/Fontanelle.zip')"
      ],
      "metadata": {
        "id": "NR5Mh4LQElPM"
      },
      "execution_count": null,
      "outputs": []
    },
    {
      "cell_type": "code",
      "source": [
        "p = pd.read_csv('/content/drive/MyDrive/Colab Notebooks/sosta_turistici.csv', sep = ';')"
      ],
      "metadata": {
        "id": "DEWGUcD_ErgE"
      },
      "execution_count": null,
      "outputs": []
    },
    {
      "cell_type": "code",
      "source": [
        "from geopandas import GeoDataFrame\n",
        "from shapely.geometry import Point\n",
        "geometry = [Point(xy) for xy in zip(p.LONG_X_4326, p.LAT_Y_4326)]\n",
        "p = p.drop(['LONG_X_4326', 'LAT_Y_4326', 'Location'], axis=1)\n",
        "parcheggi = GeoDataFrame(p, crs=\"EPSG:4326\", geometry=geometry)"
      ],
      "metadata": {
        "id": "ThXcwBvgEzVf"
      },
      "execution_count": null,
      "outputs": []
    },
    {
      "cell_type": "code",
      "source": [
        "quartieri3857 = quartieri.to_crs(3857)\n",
        "fontanelle3857 = fontanelle.to_crs(3857)\n",
        "parcheggi3857 = parcheggi.to_crs(3857)"
      ],
      "metadata": {
        "id": "PAMhSGjrFa-n"
      },
      "execution_count": null,
      "outputs": []
    },
    {
      "cell_type": "code",
      "source": [
        "joined = gpd.sjoin(fontanelle3857, quartieri3857, predicate = 'intersects', how = 'left')"
      ],
      "metadata": {
        "id": "ITnfOM9dFl2h"
      },
      "execution_count": null,
      "outputs": []
    },
    {
      "cell_type": "code",
      "source": [
        "numFontPerQuar = joined.groupby('NIL')[['Licenza']].count().sort_values(by='Licenza', ascending = False).reset_index()"
      ],
      "metadata": {
        "id": "sNd4-xRfGkU-"
      },
      "execution_count": null,
      "outputs": []
    },
    {
      "cell_type": "code",
      "source": [
        "finale = quartieri3857.merge(numFontPerQuar, on = 'NIL')"
      ],
      "metadata": {
        "id": "ZcyWxsvuHgKO"
      },
      "execution_count": null,
      "outputs": []
    },
    {
      "cell_type": "code",
      "source": [
        "joined2 = gpd.sjoin(parcheggi3857, quartieri3857, predicate = 'intersects', how = 'left')"
      ],
      "metadata": {
        "id": "fR8g74J_H2El"
      },
      "execution_count": null,
      "outputs": []
    },
    {
      "cell_type": "code",
      "source": [
        "numParPerQuar = joined2.groupby('NIL')[['localizzaz']].count().sort_values(by='localizzaz', ascending = False).reset_index()"
      ],
      "metadata": {
        "id": "0Q_01u0nIwrW"
      },
      "execution_count": null,
      "outputs": []
    },
    {
      "cell_type": "code",
      "source": [
        "finale2 = quartieri3857.merge(numParPerQuar, on = 'NIL')"
      ],
      "metadata": {
        "id": "ig57xvtfJAKK"
      },
      "execution_count": null,
      "outputs": []
    },
    {
      "cell_type": "code",
      "source": [
        "#grafico finale\n",
        "fig, ax = plt.subplots(figsize = (20, 8))\n",
        "ax.bar(finale['NIL'], finale['Licenza'], label='fontanelle')\n",
        "ax.set_ylabel('numero')\n",
        "ax.set_xlabel('quartieri')\n",
        "ax.set_title('numero di fontane in ogni quartiere di Milano')\n",
        "ax.set_xticks(finale['NIL'])\n",
        "plt.xticks(rotation = (80))\n",
        "ax.legend(loc='upper left')"
      ],
      "metadata": {
        "id": "pR6tZueEKLBN"
      },
      "execution_count": null,
      "outputs": []
    },
    {
      "cell_type": "code",
      "source": [
        "#grafico finale2\n",
        "fig, ax2 = plt.subplots(figsize = (20, 8))\n",
        "ax2.bar(finale2['NIL'], finale2['localizzaz'], label='parcheggi')\n",
        "ax2.set_ylabel('numero')\n",
        "ax2.set_xlabel('quartieri')\n",
        "ax2.set_title('numero di parcheggi in ogni quartiere di Milano')\n",
        "ax2.set_xticks(finale2['NIL'])\n",
        "plt.xticks(rotation = (70))\n",
        "ax2.legend(loc='upper left')"
      ],
      "metadata": {
        "id": "GhvKeMSPL0Id"
      },
      "execution_count": null,
      "outputs": []
    },
    {
      "cell_type": "markdown",
      "source": [
        "#esercizi grafici file 3"
      ],
      "metadata": {
        "id": "Wj-PLfJIws5r"
      }
    },
    {
      "cell_type": "code",
      "source": [
        "d = {'genere': ['terra', 'terra', 'mare', 'mare', 'aria', 'aria'], 'tipo': ['bassa', 'alta', 'alta', 'bassa', 'alta', 'bassa']}\n",
        "dfMio = pd.DataFrame(data = d)"
      ],
      "metadata": {
        "id": "FkukeV0wwu1P"
      },
      "execution_count": 49,
      "outputs": []
    },
    {
      "cell_type": "code",
      "source": [
        "dfMio['valori'] = [10, 20, 30, 40, 50, 60]"
      ],
      "metadata": {
        "id": "3PeiMQTzxtM6"
      },
      "execution_count": 50,
      "outputs": []
    },
    {
      "cell_type": "code",
      "source": [
        "dfMio = dfMio.sort_values(by=['genere', 'tipo'])"
      ],
      "metadata": {
        "id": "ul8fsIXByNcZ"
      },
      "execution_count": 51,
      "outputs": []
    },
    {
      "cell_type": "code",
      "source": [
        "dfMio"
      ],
      "metadata": {
        "id": "PYa1EzXN36Fu"
      },
      "execution_count": null,
      "outputs": []
    },
    {
      "cell_type": "code",
      "source": [
        "generi = (\"aria\", \"mare\", \"terra\")\n",
        "tipi = {\n",
        "    \"alta\": np.array(dfMio[dfMio['tipo'] == 'alta']['valori']),\n",
        "    \"bassa\": np.array(dfMio[dfMio['tipo'] == 'bassa']['valori'])\n",
        "}\n",
        "width = 0.5\n",
        "\n",
        "fig, ax = plt.subplots(figsize = (13, 5))\n",
        "bottom = np.zeros(3)\n",
        "\n",
        "for gen, tip in tipi.items():\n",
        "    p = ax.bar(generi, tip, width, label=gen, bottom=bottom)\n",
        "    bottom += tip  #aggiunge alla colonna un altro dato in base al valore (che determina l'altezza della colonna)\n",
        "\n",
        "ax.bar_label(p, label_type='center')  #metto i valori all'interno della colonna\n",
        "\n",
        "ax.set_title(\"valori per ogni genere e tipo\")\n",
        "ax.legend(loc=\"upper right\")\n",
        "\n",
        "plt.show()"
      ],
      "metadata": {
        "id": "q5rQUt83yZO6"
      },
      "execution_count": null,
      "outputs": []
    },
    {
      "cell_type": "code",
      "source": [
        "stringhe = (\"aria\", \"mare\", \"terra\")\n",
        "dati = {\n",
        "    \"alta\": np.array(dfMio[dfMio['tipo'] == 'alta']['valori']),\n",
        "    \"bassa\": np.array(dfMio[dfMio['tipo'] == 'bassa']['valori'])\n",
        "}\n",
        "\n",
        "x = np.arange(len(stringhe))  # the label locations\n",
        "width = 0.25  # the width of the bars\n",
        "multiplier = 0.5\n",
        "\n",
        "fig, ax = plt.subplots(layout='constrained')\n",
        "\n",
        "for nome, valore in dati.items():\n",
        "    offset = width * multiplier\n",
        "    rects = ax.bar(x + offset, valore, width, label=nome)\n",
        "    ax.bar_label(rects, padding=2)\n",
        "    multiplier += 1\n",
        "\n",
        "# Add some text for labels, title and custom x-axis tick labels, etc.\n",
        "ax.set_ylabel('numero')\n",
        "ax.set_title('valori per ogni genere e tipo')\n",
        "ax.set_xticks(x + width, stringhe)\n",
        "ax.legend(loc='upper right', ncols=2)\n",
        "\n",
        "plt.show()"
      ],
      "metadata": {
        "id": "b3oIDO-HzcnG"
      },
      "execution_count": null,
      "outputs": []
    },
    {
      "cell_type": "code",
      "source": [
        "category_names = ['alta', 'bassa']   #le categorie che si inseriscono qua devo essere dello stesso ordine del dataframe. Per fare ciò, ordinare il datframe con sort values\n",
        "results = {\n",
        "    'aria': np.array(dfMio[dfMio['genere'] == 'aria']['valori']),  \n",
        "    'mare': np.array(dfMio[dfMio['genere'] == 'mare']['valori']),\n",
        "    'terra': np.array(dfMio[dfMio['genere'] == 'terra']['valori'])\n",
        "}\n",
        "\n",
        "\n",
        "def survey(results, category_names):\n",
        "    \"\"\"\n",
        "    Parameters\n",
        "    ----------\n",
        "    results : dict\n",
        "        A mapping from question labels to a list of answers per category.\n",
        "        It is assumed all lists contain the same number of entries and that\n",
        "        it matches the length of *category_names*.\n",
        "    category_names : list of str\n",
        "        The category labels.\n",
        "    \"\"\"\n",
        "    labels = list(results.keys())\n",
        "    data = np.array(list(results.values()))\n",
        "    data_cum = data.cumsum(axis=1)\n",
        "    category_colors = plt.colormaps['RdYlGn'](\n",
        "        np.linspace(0.15, 0.85, data.shape[1]))\n",
        "\n",
        "    fig, ax = plt.subplots(figsize=(9.2, 5))\n",
        "    ax.invert_yaxis()\n",
        "    ax.xaxis.set_visible(False)   #non mostro dati sull'asse X\n",
        "    ax.set_xlim(0, np.sum(data, axis=1).max())   #metto un limite di lunghezza sull'asse X\n",
        "\n",
        "    for i, (colname, color) in enumerate(zip(category_names, category_colors)):\n",
        "        widths = data[:, i]\n",
        "        starts = data_cum[:, i] - widths\n",
        "        rects = ax.barh(labels, widths, left=starts, height=0.5,\n",
        "                        label=colname, color=color)\n",
        "\n",
        "        r, g, b, _ = color\n",
        "        text_color = 'white' if r * g * b < 0.5 else 'darkgrey'   #decido il colore dei valori che saranno all'interno delle barre\n",
        "        ax.bar_label(rects, label_type='center', color=text_color)\n",
        "    ax.legend(ncols=len(category_names), bbox_to_anchor=(0, 1),\n",
        "              loc='lower left', fontsize='small')\n",
        "\n",
        "    return fig, ax\n",
        "\n",
        "\n",
        "survey(results, category_names)\n",
        "plt.show()"
      ],
      "metadata": {
        "id": "3OMvY22l0cOQ"
      },
      "execution_count": null,
      "outputs": []
    }
  ]
}