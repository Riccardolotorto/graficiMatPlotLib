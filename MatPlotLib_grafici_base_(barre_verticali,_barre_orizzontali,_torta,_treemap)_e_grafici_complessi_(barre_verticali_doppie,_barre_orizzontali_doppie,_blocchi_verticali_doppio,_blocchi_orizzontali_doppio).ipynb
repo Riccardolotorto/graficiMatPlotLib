{
  "nbformat": 4,
  "nbformat_minor": 0,
  "metadata": {
    "colab": {
      "provenance": [],
      "mount_file_id": "1lpagqM4SivFYpQyhaOX9HW6hwfJk5SMo",
      "authorship_tag": "ABX9TyNe/42fDjoJUPJwZnvvs8eC",
      "include_colab_link": true
    },
    "kernelspec": {
      "name": "python3",
      "display_name": "Python 3"
    },
    "language_info": {
      "name": "python"
    }
  },
  "cells": [
    {
      "cell_type": "markdown",
      "metadata": {
        "id": "view-in-github",
        "colab_type": "text"
      },
      "source": [
        "<a href=\"https://colab.research.google.com/github/Riccardolotorto/graficiMatPlotLib/blob/main/MatPlotLib_grafici_base_(barre_verticali%2C_barre_orizzontali%2C_torta%2C_treemap)_e_grafici_complessi_(barre_verticali_doppie%2C_barre_orizzontali_doppie%2C_blocchi_verticali_doppio%2C_blocchi_orizzontali_doppio).ipynb\" target=\"_parent\"><img src=\"https://colab.research.google.com/assets/colab-badge.svg\" alt=\"Open In Colab\"/></a>"
      ]
    },
    {
      "cell_type": "code",
      "execution_count": 1,
      "metadata": {
        "id": "TrcOi9pX4Vef"
      },
      "outputs": [],
      "source": [
        "import pandas as pd\n",
        "import matplotlib.pyplot as plt\n",
        "import numpy as np"
      ]
    },
    {
      "cell_type": "code",
      "source": [
        "parcheggiPubblici = pd.read_csv('/content/drive/MyDrive/Colab Notebooks/ds342_park_pub.csv', on_bad_lines='skip', sep = ';')"
      ],
      "metadata": {
        "id": "3U1TnDl0-dZt"
      },
      "execution_count": 2,
      "outputs": []
    },
    {
      "cell_type": "code",
      "source": [
        "postiCategoria = parcheggiPubblici.groupby('tipo')[['n_posti']].sum().reset_index()\n",
        "postiCategoria"
      ],
      "metadata": {
        "id": "EsaZ3NCD-vHW"
      },
      "execution_count": null,
      "outputs": []
    },
    {
      "cell_type": "code",
      "source": [
        "parcheggiCategoria = parcheggiPubblici.groupby('tipo')[['nome']].count().reset_index()\n",
        "parcheggiCategoria"
      ],
      "metadata": {
        "id": "gZwaoxRa-9im"
      },
      "execution_count": null,
      "outputs": []
    },
    {
      "cell_type": "code",
      "source": [
        "finale = postiCategoria.merge(parcheggiCategoria, on = 'tipo')\n",
        "finale"
      ],
      "metadata": {
        "id": "-zKofbcp_N8z"
      },
      "execution_count": null,
      "outputs": []
    },
    {
      "cell_type": "markdown",
      "source": [
        "**grafici base**"
      ],
      "metadata": {
        "id": "jOkYRCJK_YAX"
      }
    },
    {
      "cell_type": "code",
      "source": [
        "#barre verticali\n",
        "stringhe = parcheggiCategoria['tipo'].map(str)\n",
        "dati = parcheggiCategoria['nome']\n",
        "\n",
        "fig, ax = plt.subplots(figsize=(15,8))\n",
        "ax.bar(stringhe, dati, label='parcheggi')\n",
        "\n",
        "ax.set_ylabel('numero')\n",
        "ax.set_xlabel('tipo')\n",
        "ax.set_title('totale parcheggi per ogni tipo')\n",
        "ax.legend() "
      ],
      "metadata": {
        "id": "o1Bi4jBe_Z_n"
      },
      "execution_count": null,
      "outputs": []
    },
    {
      "cell_type": "code",
      "source": [
        "#barre orizzontali\n",
        "stringhe = parcheggiCategoria['tipo'].map(str)\n",
        "dati = parcheggiCategoria['nome']\n",
        "\n",
        "fig, ax = plt.subplots(figsize=(15,8))\n",
        "ax.barh(stringhe, dati, label='parcheggi')\n",
        "\n",
        "ax.set_ylabel('tipo')\n",
        "ax.set_xlabel('numero')\n",
        "ax.set_title('totale parcheggi per ogni tipo')\n",
        "ax.legend() "
      ],
      "metadata": {
        "id": "lwewalfI_47-"
      },
      "execution_count": null,
      "outputs": []
    },
    {
      "cell_type": "code",
      "source": [
        "#torta\n",
        "stringhe = parcheggiCategoria['tipo']\n",
        "dati = parcheggiCategoria['nome']\n",
        "\n",
        "plt.figure(figsize=(16, 8))\n",
        "plt.pie(dati, labels=stringhe, autopct=lambda p:  '{:.0f}'.format(p * (dati.sum()) / 100), shadow = True)\n",
        "plt.show()"
      ],
      "metadata": {
        "id": "11j4dk0nAGGp"
      },
      "execution_count": null,
      "outputs": []
    },
    {
      "cell_type": "code",
      "source": [
        "'''\n",
        "import random\n",
        "rand_list = [] \n",
        "for i in range(len(dati)): \n",
        "  n= round(random.random(),1)\n",
        "  rand_list.append(n)\n",
        "  \n",
        "explode = (rand_list)\n",
        "'''"
      ],
      "metadata": {
        "id": "nAuC3HeZC8kr"
      },
      "execution_count": null,
      "outputs": []
    },
    {
      "cell_type": "code",
      "source": [
        "!pip install squarify"
      ],
      "metadata": {
        "id": "4V6DamjGDBVM"
      },
      "execution_count": null,
      "outputs": []
    },
    {
      "cell_type": "code",
      "source": [
        "#treemap\n",
        "import squarify\n",
        "stringhe = parcheggiCategoria['tipo']\n",
        "dati = parcheggiCategoria['nome']\n",
        "\n",
        "squarify.plot(sizes=dati, label=stringhe, alpha=.8)\n",
        "plt.axis('off')\n",
        "plt.show()"
      ],
      "metadata": {
        "id": "d08TtD39DOxY"
      },
      "execution_count": null,
      "outputs": []
    },
    {
      "cell_type": "markdown",
      "source": [
        "**grafici complessi**"
      ],
      "metadata": {
        "id": "LkCd7cmwDatg"
      }
    },
    {
      "cell_type": "code",
      "source": [
        "#barre verticali doppie\n",
        "stringhe = finale['tipo']\n",
        "dati = {\n",
        "    \"posti\": np.array(finale['n_posti']),\n",
        "    \"parheggi\": np.array(finale['nome'])\n",
        "}\n",
        "\n",
        "x = np.arange(len(stringhe))  # the label locations\n",
        "width = 0.25  # the width of the bars\n",
        "multiplier = 0.5\n",
        "\n",
        "fig, ax = plt.subplots(layout='constrained', figsize = (12, 5))\n",
        "\n",
        "for nome, valore in dati.items():\n",
        "    offset = width * multiplier\n",
        "    rects = ax.bar(x + offset, valore, width, label=nome)\n",
        "    ax.bar_label(rects, padding=2)\n",
        "    multiplier += 1\n",
        "\n",
        "# Add some text for labels, title and custom x-axis tick labels, etc.\n",
        "ax.set_ylabel('numero')\n",
        "ax.set_title('numero di parcheggi e posti per ogni tipo')\n",
        "ax.set_xticks(x + width, stringhe)\n",
        "ax.legend(loc='upper right', ncols=2)\n",
        "\n",
        "plt.show()"
      ],
      "metadata": {
        "id": "iSKd0CeSDc9N"
      },
      "execution_count": null,
      "outputs": []
    },
    {
      "cell_type": "code",
      "source": [
        "#barre orizzontali doppie\n",
        "stringhe = finale['tipo']\n",
        "dati = {\n",
        "    \"posti\": np.array(finale['n_posti']),\n",
        "    \"parheggi\": np.array(finale['nome'])\n",
        "}\n",
        "\n",
        "y = np.arange(len(stringhe))  # the label locations\n",
        "width = 0.25  # the width of the bars\n",
        "multiplier = 0.5\n",
        "\n",
        "fig, ax = plt.subplots(layout='constrained', figsize = (12, 5))\n",
        "\n",
        "for nome, valore in dati.items():\n",
        "    offset = width * multiplier\n",
        "    rects = ax.barh(y + offset, valore, width, label=nome)\n",
        "    ax.bar_label(rects, padding=2)\n",
        "    multiplier += 1\n",
        "\n",
        "# Add some text for labels, title and custom x-axis tick labels, etc.\n",
        "ax.set_ylabel('numero')\n",
        "ax.set_title('numero di parcheggi e posti per ogni tipo')\n",
        "ax.set_yticks(y + width, stringhe)\n",
        "ax.legend(loc='upper right', ncols=2)\n",
        "\n",
        "plt.show()"
      ],
      "metadata": {
        "id": "vkF6aZRjEThZ"
      },
      "execution_count": null,
      "outputs": []
    },
    {
      "cell_type": "code",
      "source": [
        "#blocchi verticali doppio\n",
        "stringhe = finale['tipo'].map(str)\n",
        "dati = {\n",
        "    \"posti\": np.array(finale['n_posti']),\n",
        "    \"parheggi\": np.array(finale['nome'])\n",
        "}\n",
        "\n",
        "width = 0.5\n",
        "\n",
        "fig, ax = plt.subplots(figsize = (13, 5))\n",
        "bottom = np.zeros(len(stringhe))  #il numero dentro la parentesi deve essere uguale alla lunghezza delle stringhe\n",
        "\n",
        "for stringa, dato in dati.items():\n",
        "    p = ax.bar(stringhe, dato, width, label=stringa, bottom=bottom)\n",
        "    bottom += dato  #aggiunge alla colonna un altro dato in base al valore (che determina l'altezza della colonna). Parte dal basso\n",
        "    ax.bar_label(p, label_type='center')  #metto i valori all'interno della colonna\n",
        "\n",
        "ax.set_title(\"numero di parcheggi e posti per ogni tipo\")\n",
        "ax.legend(loc=\"upper right\")\n",
        "\n",
        "plt.show()"
      ],
      "metadata": {
        "id": "M3ybIGMhEgzp"
      },
      "execution_count": null,
      "outputs": []
    },
    {
      "cell_type": "code",
      "source": [
        "#blocchi orizzontali doppio\n",
        "stringhe = finale['tipo'].map(str)\n",
        "dati = {\n",
        "    \"posti\": np.array(finale['n_posti']),\n",
        "    \"parheggi\": np.array(finale['nome'])\n",
        "}\n",
        "\n",
        "width = 0.5\n",
        "\n",
        "fig, ax = plt.subplots(figsize = (13, 5))\n",
        "bottom = np.zeros(len(stringhe))  #il numero dentro la parentesi deve essere uguale alla lunghezza delle stringhe\n",
        "\n",
        "for stringa, dato in dati.items():\n",
        "    p = ax.barh(stringhe, dato, width, label=stringa, left=bottom)\n",
        "    bottom += dato  #aggiunge alla colonna un altro dato in base al valore (che determina l'altezza della colonna). Parte dal basso\n",
        "    ax.bar_label(p, label_type='center')  #metto i valori all'interno della colonna\n",
        "\n",
        "ax.set_title(\"numero di parcheggi e posti per ogni tipo\")\n",
        "ax.legend(loc=\"upper right\")\n",
        "\n",
        "plt.show()"
      ],
      "metadata": {
        "id": "QVx9UgYaE-zF"
      },
      "execution_count": null,
      "outputs": []
    },
    {
      "cell_type": "code",
      "source": [
        "#unione di tre grafici\n",
        "fig, axs = plt.subplots(1, 3, figsize = (100, 40))\n",
        "\n",
        "stringhe1 = finale['tipo']\n",
        "dati1 = {\n",
        "    \"posti\": np.array(finale['n_posti']),\n",
        "    \"parheggi\": np.array(finale['nome'])\n",
        "}\n",
        "\n",
        "x = np.arange(len(stringhe1))  # the label locations\n",
        "width = 0.25  # the width of the bars\n",
        "multiplier = 0.5\n",
        "\n",
        "for nome, valore in dati1.items():\n",
        "    offset = width * multiplier\n",
        "    rects = axs[0].bar(x + offset, valore, width, label=nome)\n",
        "    axs[0].bar_label(rects, padding=2)\n",
        "    multiplier += 1\n",
        "\n",
        "# Add some text for labels, title and custom x-axis tick labels, etc.\n",
        "axs[0].set_ylabel('numero')\n",
        "axs[0].set_title('numero di parcheggi e posti per ogni tipo')\n",
        "axs[0].set_xticks(x + width, stringhe1)\n",
        "axs[0].legend(loc='upper right', ncols=2)\n",
        "\n",
        "\n",
        "\n",
        "stringhe2 = finale['tipo']\n",
        "dati2 = {\n",
        "    \"posti\": np.array(finale['n_posti']),\n",
        "    \"parheggi\": np.array(finale['nome'])\n",
        "}\n",
        "\n",
        "y = np.arange(len(stringhe2))  # the label locations\n",
        "width = 0.25  # the width of the bars\n",
        "multiplier = 0.5\n",
        "\n",
        "for nome, valore in dati2.items():\n",
        "    offset = width * multiplier\n",
        "    rects = axs[1].barh(y + offset, valore, width, label=nome)\n",
        "    axs[1].bar_label(rects, padding=2)\n",
        "    multiplier += 1\n",
        "\n",
        "# Add some text for labels, title and custom x-axis tick labels, etc.\n",
        "axs[1].set_ylabel('numero')\n",
        "axs[1].set_title('numero di parcheggi e posti per ogni tipo')\n",
        "axs[1].set_yticks(y + width, stringhe2)\n",
        "axs[1].legend(loc='upper right', ncols=2)\n",
        "\n",
        "\n",
        "\n",
        "stringhe3 = finale['tipo'].map(str)\n",
        "dati3 = {\n",
        "    \"posti\": np.array(finale['n_posti']),\n",
        "    \"parheggi\": np.array(finale['nome'])\n",
        "}\n",
        "\n",
        "width = 0.5\n",
        "bottom = np.zeros(len(stringhe3))  #il numero dentro la parentesi deve essere uguale alla lunghezza delle stringhe\n",
        "\n",
        "for stringa, dato in dati3.items():\n",
        "    p = axs[2].bar(stringhe3, dato, width, label=stringa, bottom=bottom)\n",
        "    bottom += dato  #aggiunge alla colonna un altro dato in base al valore (che determina l'altezza della colonna). Parte dal basso\n",
        "    axs[2].bar_label(p, label_type='center')  #metto i valori all'interno della colonna\n",
        "\n",
        "axs[2].set_title(\"numero di parcheggi e posti per ogni tipo\")\n",
        "axs[2].legend(loc=\"upper right\")\n",
        "\n",
        "\n",
        "\n",
        "\n",
        "\n",
        "plt.suptitle('Grafici')\n",
        "plt.tight_layout()\n",
        "plt.show()"
      ],
      "metadata": {
        "id": "ehPoDkg-WKim"
      },
      "execution_count": null,
      "outputs": []
    }
  ]
}